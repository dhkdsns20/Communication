{
 "cells": [
  {
   "cell_type": "code",
   "execution_count": null,
   "metadata": {},
   "outputs": [],
   "source": [
    "import numpy as np\n",
    "import matplotlib.pyplot as plt\n",
    "import wave\n",
    "obj = wave.open('SDRSharp_20210520_033439Z_1089960000Hz_IQ.wav','r')\n",
    "print( \"Number of channels\",obj.getnchannels())\n",
    "print ( \"Sample width\",obj.getsampwidth())\n",
    "print ( \"Frame rate.\",obj.getframerate())\n",
    "print (\"Number of frames\",obj.getnframes())\n",
    "print ( \"parameters:\",obj.getparams())\n",
    "x = obj.readframes(10)\n",
    "obj.close()"
   ]
  },
  {
   "cell_type": "code",
   "execution_count": null,
   "metadata": {},
   "outputs": [],
   "source": [
    "print(x)"
   ]
  },
  {
   "cell_type": "code",
   "execution_count": null,
   "metadata": {},
   "outputs": [],
   "source": [
    "len(x)"
   ]
  },
  {
   "cell_type": "markdown",
   "metadata": {},
   "source": [
    "### scipy.io.wavfile.read(somefile) returns a tuple of two items: the first is the sampling rate in samples per second, the second is a numpy array with all the data read from the file:"
   ]
  },
  {
   "cell_type": "code",
   "execution_count": null,
   "metadata": {},
   "outputs": [],
   "source": [
    "import numpy as np\n",
    "import matplotlib.pyplot as plt\n",
    "import wave\n",
    "from scipy.io import wavfile\n",
    "from scipy.interpolate import interp1d\n",
    "#samplerate, data = wavfile.read('ADS-B_SDRSharp_20150526_203031Z_1090000kHz_IQ.wav')\n",
    "samplerate, data = wavfile.read('SDRSharp_20210520_033439Z_1089960000Hz_IQ.wav')"
   ]
  },
  {
   "cell_type": "code",
   "execution_count": null,
   "metadata": {},
   "outputs": [],
   "source": [
    "print(samplerate)\n",
    "print(data)"
   ]
  },
  {
   "cell_type": "code",
   "execution_count": null,
   "metadata": {},
   "outputs": [],
   "source": [
    "print(data.ndim)\n",
    "print(data.shape)\n",
    "[M, dummy] = data.shape"
   ]
  },
  {
   "cell_type": "code",
   "execution_count": null,
   "metadata": {},
   "outputs": [],
   "source": [
    "#print(data[62809999:62810330,0]/2048)\n",
    "print(np.max(data[42809999:42810330,0]))"
   ]
  },
  {
   "cell_type": "code",
   "execution_count": null,
   "metadata": {},
   "outputs": [],
   "source": [
    "z = np.zeros(M, dtype=float)\n",
    "print(z.shape)\n",
    "print(data[1,0]/2048.) \n",
    "z = np.power(data[0:M,0]/2048.,2)+np.power(data[0:M,1]/2048.,2) # Much faster than the below !\n",
    "#for i in range(N):\n",
    "#    z[i]=np.power(data[i][0],2)+np.power(data[i][1],2)"
   ]
  },
  {
   "cell_type": "code",
   "execution_count": null,
   "metadata": {},
   "outputs": [],
   "source": [
    "#t0 = np.arange(0,1/Fs*M,1/Fs)\n",
    "#print(len(t0))\n",
    "#plt.plot(t0,z)"
   ]
  },
  {
   "cell_type": "code",
   "execution_count": null,
   "metadata": {},
   "outputs": [],
   "source": [
    "fs = samplerate\n",
    "start = int(1.7231*fs)\n",
    "end = int(1.72324*fs)\n",
    "N = end - start\n",
    "print(N)\n",
    "print(z[start:end].shape)\n",
    "plt.plot(z[start:end])"
   ]
  },
  {
   "cell_type": "code",
   "execution_count": null,
   "metadata": {},
   "outputs": [],
   "source": [
    "x = np.arange(N)\n",
    "print(x.shape)\n",
    "print(x[447])\n",
    "f = interp1d(x, z[start:end], kind='cubic')"
   ]
  },
  {
   "cell_type": "code",
   "execution_count": null,
   "metadata": {},
   "outputs": [],
   "source": [
    "xnew = np.arange(0,N-1,1/25)\n",
    "print(xnew.shape)   #  447 * 25 = 11175\n",
    "print(xnew[11174])"
   ]
  },
  {
   "cell_type": "code",
   "execution_count": null,
   "metadata": {},
   "outputs": [],
   "source": [
    "plt.plot(xnew, f(xnew))"
   ]
  },
  {
   "cell_type": "code",
   "execution_count": null,
   "metadata": {},
   "outputs": [],
   "source": [
    "xdeci = xnew[16:11135:20]    # 11135 = 11175 - 40\n",
    "print(xdeci.shape)\n",
    "adsb_arr = np.zeros(556, dtype=int)\n",
    "plt.plot(xdeci, f(xdeci))"
   ]
  },
  {
   "cell_type": "code",
   "execution_count": null,
   "metadata": {},
   "outputs": [],
   "source": [
    "TH = 5.0  # threshold\n",
    "cnt = 0\n",
    "for i in xdeci:\n",
    "    if f(i) >= TH:\n",
    "        adsb_arr[cnt] = 1\n",
    "    else:\n",
    "        adsb_arr[cnt] = 0\n",
    "    cnt += 1\n",
    "print(adsb_arr.shape)  \n",
    "plt.plot(adsb_arr[0:150])\n"
   ]
  },
  {
   "cell_type": "code",
   "execution_count": null,
   "metadata": {},
   "outputs": [],
   "source": [
    "plt.stem(adsb_arr[0:150:2], markerfmt='m.', use_line_collection = True)"
   ]
  },
  {
   "cell_type": "code",
   "execution_count": null,
   "metadata": {},
   "outputs": [],
   "source": [
    "a = np.arange(10)\n",
    "print(a[0:10:2])"
   ]
  },
  {
   "cell_type": "markdown",
   "metadata": {},
   "source": [
    "### Making 3.2MHz samples to 32 MHz (interpolation) and then to 4 MHz (decimation)"
   ]
  },
  {
   "cell_type": "code",
   "execution_count": null,
   "metadata": {},
   "outputs": [],
   "source": [
    "import numpy as np\n",
    "import matplotlib.pyplot as plt\n",
    "import wave\n",
    "from scipy.io import wavfile\n",
    "from scipy.interpolate import interp1d\n",
    "samplerate, data = wavfile.read('SDRSharp_20210520_033439Z_1089960000Hz_IQ.wav')"
   ]
  },
  {
   "cell_type": "code",
   "execution_count": null,
   "metadata": {},
   "outputs": [],
   "source": [
    "[M, dummy] = data.shape\n",
    "print(data.shape)\n",
    "print(data[1900:2100,0]) "
   ]
  },
  {
   "cell_type": "code",
   "execution_count": null,
   "metadata": {},
   "outputs": [],
   "source": [
    "z = np.zeros(M, dtype=float)\n",
    "print(z.shape)\n",
    "print(data[1,0]/2048.) "
   ]
  },
  {
   "cell_type": "code",
   "execution_count": null,
   "metadata": {},
   "outputs": [],
   "source": [
    "z = np.power(data[0:M,0]/8192.,2)+np.power(data[0:M,1]/8192.,2) # Much faster than the below !\n",
    "#plt.plot(np.abs(data)/8192.)"
   ]
  },
  {
   "cell_type": "code",
   "execution_count": null,
   "metadata": {},
   "outputs": [],
   "source": [
    "#plt.plot(z)"
   ]
  },
  {
   "cell_type": "code",
   "execution_count": null,
   "metadata": {},
   "outputs": [],
   "source": [
    "z = z[4000000:8000001]"
   ]
  },
  {
   "cell_type": "code",
   "execution_count": null,
   "metadata": {},
   "outputs": [],
   "source": [
    "plt.plot(z)"
   ]
  },
  {
   "cell_type": "code",
   "execution_count": null,
   "metadata": {},
   "outputs": [],
   "source": [
    "z.shape"
   ]
  },
  {
   "cell_type": "code",
   "execution_count": null,
   "metadata": {},
   "outputs": [],
   "source": [
    "x = np.arange(4000001)\n",
    "print(x.shape)\n",
    "f = interp1d(x, z, kind='cubic')"
   ]
  },
  {
   "cell_type": "markdown",
   "metadata": {},
   "source": [
    "#### Interpolation of 10"
   ]
  },
  {
   "cell_type": "code",
   "execution_count": null,
   "metadata": {},
   "outputs": [],
   "source": [
    "xnew = np.arange(0,4000000,1/10)\n",
    "print(xnew.shape)   #  4000000 * 10"
   ]
  },
  {
   "cell_type": "code",
   "execution_count": null,
   "metadata": {},
   "outputs": [],
   "source": [
    "plt.plot(xnew, f(xnew))"
   ]
  },
  {
   "cell_type": "markdown",
   "metadata": {},
   "source": [
    "#### Decimation of 8, so fs becomes 4 MHz (= 4M sps)"
   ]
  },
  {
   "cell_type": "code",
   "execution_count": null,
   "metadata": {},
   "outputs": [],
   "source": [
    "xdeci = xnew[1:40000000:8]   # fs = 4MHz\n",
    "print(xdeci.shape)\n",
    "#adsb_arr = np.zeros(556, dtype=int)\n",
    "plt.plot(xdeci, f(xdeci))"
   ]
  },
  {
   "cell_type": "code",
   "execution_count": null,
   "metadata": {},
   "outputs": [],
   "source": [
    "N = xdeci.shape[0]\n",
    "print(N)\n",
    "zdeci = np.zeros(N)\n",
    "zdeci = f(xdeci)\n",
    "#plt.plot(zdeci)\n",
    "preamble = np.array([1,0,1,0,0,0,0,1,0,1,0,0,0,0,0,0])\n",
    "corr_arr = np.zeros(N-16)\n",
    "corr_sgn = np.zeros(N-16)"
   ]
  },
  {
   "cell_type": "code",
   "execution_count": null,
   "metadata": {},
   "outputs": [],
   "source": [
    "for i in range(N-16):\n",
    "    corr_arr[i] = np.dot(zdeci[i+0:i+16], preamble)"
   ]
  },
  {
   "cell_type": "code",
   "execution_count": null,
   "metadata": {},
   "outputs": [],
   "source": [
    "corr_arr.shape"
   ]
  },
  {
   "cell_type": "code",
   "execution_count": null,
   "metadata": {},
   "outputs": [],
   "source": [
    "plt.plot(corr_arr)"
   ]
  },
  {
   "cell_type": "code",
   "execution_count": null,
   "metadata": {},
   "outputs": [],
   "source": [
    "for i in range(N-16):\n",
    "    if corr_arr[i] >1.2:\n",
    "        corr_sgn[i] = corr_arr[i]\n",
    "    else:\n",
    "        corr_sgn[i] = 0.\n",
    "plt.plot(corr_sgn)                 "
   ]
  },
  {
   "cell_type": "code",
   "execution_count": null,
   "metadata": {},
   "outputs": [],
   "source": [
    "idx_max = np.argmax(corr_sgn)\n",
    "print(idx_max)"
   ]
  },
  {
   "cell_type": "code",
   "execution_count": null,
   "metadata": {},
   "outputs": [],
   "source": [
    "plt.plot(zdeci[idx_max-200:idx_max+200])"
   ]
  },
  {
   "cell_type": "code",
   "execution_count": null,
   "metadata": {},
   "outputs": [],
   "source": [
    "plt.stem(zdeci[idx_max-200:idx_max+200], markerfmt='m.', use_line_collection = True)"
   ]
  },
  {
   "cell_type": "code",
   "execution_count": null,
   "metadata": {},
   "outputs": [],
   "source": [
    "plt.stem(zdeci[idx_max-201:idx_max+200:2], markerfmt='m.', use_line_collection = True)"
   ]
  },
  {
   "cell_type": "code",
   "execution_count": null,
   "metadata": {},
   "outputs": [],
   "source": [
    "zdecision = np.zeros(201)\n",
    "zdecision[zdeci[idx_max-201:idx_max+200:2] > 0.4] = 1 \n",
    "plt.plot(zdecision)"
   ]
  },
  {
   "cell_type": "code",
   "execution_count": null,
   "metadata": {},
   "outputs": [],
   "source": [
    "zdecision.shape"
   ]
  },
  {
   "cell_type": "code",
   "execution_count": null,
   "metadata": {},
   "outputs": [],
   "source": [
    "zdecision[31:165]"
   ]
  },
  {
   "cell_type": "code",
   "execution_count": null,
   "metadata": {},
   "outputs": [],
   "source": [
    "plt.stem(zdecision[31:165], markerfmt='m.', use_line_collection = True)"
   ]
  },
  {
   "cell_type": "code",
   "execution_count": null,
   "metadata": {},
   "outputs": [],
   "source": [
    "ord_max = int(15)\n",
    "idx = np.argpartition(corr_sgn, -ord_max)[-ord_max:]\n",
    "indices = idx[np.argsort((-corr_sgn)[idx])]\n",
    "print(indices)"
   ]
  },
  {
   "cell_type": "code",
   "execution_count": null,
   "metadata": {},
   "outputs": [],
   "source": [
    "i = indices[3]\n",
    "plt.plot(zdeci[i-500:i+500])"
   ]
  },
  {
   "cell_type": "markdown",
   "metadata": {},
   "source": [
    "## Preamble (1010000101000000) and DF 17 becomes a new preamble"
   ]
  },
  {
   "cell_type": "code",
   "execution_count": 1,
   "metadata": {},
   "outputs": [],
   "source": [
    "import numpy as np\n",
    "import matplotlib.pyplot as plt\n",
    "import wave\n",
    "from scipy.io import wavfile\n",
    "from scipy.interpolate import interp1d\n",
    "#samplerate, data = wavfile.read('SDRSharp_20210520_033439Z_1089960000Hz_IQ.wav')\n",
    "samplerate, data = wavfile.read('\\Downloads\\sdrsharp_adsb\\SDRSharp_20210523_090518Z_1089960000Hz_IQ.wav')"
   ]
  },
  {
   "cell_type": "code",
   "execution_count": 2,
   "metadata": {},
   "outputs": [
    {
     "name": "stdout",
     "output_type": "stream",
     "text": [
      "(49700864,)\n",
      "(24000001,)\n"
     ]
    }
   ],
   "source": [
    "[M, dummy] = data.shape\n",
    "z = np.zeros(M, dtype=float)\n",
    "print(z.shape)\n",
    "z = np.power(data[0:M,0]/8192.,2)+np.power(data[0:M,1]/8192.,2) \n",
    "z = z[4000000:28000001]   # z = z[4000000:8000001]\n",
    "print(z.shape)\n",
    "M_z = np.size(z,0)"
   ]
  },
  {
   "cell_type": "code",
   "execution_count": 3,
   "metadata": {},
   "outputs": [
    {
     "name": "stdout",
     "output_type": "stream",
     "text": [
      "(24000001,)\n"
     ]
    }
   ],
   "source": [
    "x = np.arange(M_z)\n",
    "print(x.shape)\n",
    "f = interp1d(x, z, kind='cubic')"
   ]
  },
  {
   "cell_type": "code",
   "execution_count": 4,
   "metadata": {},
   "outputs": [
    {
     "name": "stdout",
     "output_type": "stream",
     "text": [
      "(240000000,)\n"
     ]
    }
   ],
   "source": [
    "xnew = np.arange(0,M_z-1,1/10)\n",
    "print(xnew.shape)   #  4000000 * 10\n"
   ]
  },
  {
   "cell_type": "code",
   "execution_count": 5,
   "metadata": {},
   "outputs": [
    {
     "name": "stdout",
     "output_type": "stream",
     "text": [
      "(15000000,)\n"
     ]
    }
   ],
   "source": [
    "xdeci = xnew[5:(M_z-1)*10:16]   # fs = 2MHz\n",
    "print(xdeci.shape)"
   ]
  },
  {
   "cell_type": "code",
   "execution_count": 6,
   "metadata": {},
   "outputs": [
    {
     "data": {
      "text/plain": [
       "15000000.0"
      ]
     },
     "execution_count": 6,
     "metadata": {},
     "output_type": "execute_result"
    }
   ],
   "source": [
    "(M_z-1)*10/16"
   ]
  },
  {
   "cell_type": "code",
   "execution_count": 7,
   "metadata": {},
   "outputs": [
    {
     "name": "stdout",
     "output_type": "stream",
     "text": [
      "15000000\n",
      "26\n",
      "(14999974,)\n"
     ]
    }
   ],
   "source": [
    "N = xdeci.shape[0]\n",
    "print(N)\n",
    "zdeci = np.zeros(N)\n",
    "zdeci = f(xdeci)\n",
    "#plt.plot(zdeci)\n",
    "preamble = np.array([1,0,1,0,0,0,0,1,0,1,0,0,0,0,0,0,1,0,0,1,0,1,0,1,1,0])\n",
    "A = preamble.shape[0]\n",
    "corr_arr = np.zeros(N-A)\n",
    "corr_sgn = np.zeros(N-A)\n",
    "print(A)\n",
    "print(corr_arr.shape)"
   ]
  },
  {
   "cell_type": "code",
   "execution_count": 8,
   "metadata": {},
   "outputs": [
    {
     "data": {
      "text/plain": [
       "[<matplotlib.lines.Line2D at 0x1beb2eb3c50>]"
      ]
     },
     "execution_count": 8,
     "metadata": {},
     "output_type": "execute_result"
    },
    {
     "data": {
      "image/png": "[encoded data removed]",
      "text/plain": [
       "<Figure size 432x288 with 1 Axes>"
      ]
     },
     "metadata": {
      "needs_background": "light"
     },
     "output_type": "display_data"
    }
   ],
   "source": [
    "plt.plot(zdeci)"
   ]
  },
  {
   "cell_type": "code",
   "execution_count": 9,
   "metadata": {},
   "outputs": [],
   "source": [
    "for i in range(N-A):\n",
    "    corr_arr[i] = np.dot(zdeci[i+0:i+A], preamble)"
   ]
  },
  {
   "cell_type": "code",
   "execution_count": 10,
   "metadata": {},
   "outputs": [
    {
     "data": {
      "text/plain": [
       "(14999974,)"
      ]
     },
     "execution_count": 10,
     "metadata": {},
     "output_type": "execute_result"
    }
   ],
   "source": [
    "corr_arr.shape"
   ]
  },
  {
   "cell_type": "code",
   "execution_count": 11,
   "metadata": {},
   "outputs": [
    {
     "data": {
      "text/plain": [
       "[<matplotlib.lines.Line2D at 0x1beb2f19b70>]"
      ]
     },
     "execution_count": 11,
     "metadata": {},
     "output_type": "execute_result"
    },
    {
     "data": {
      "image/png": "[encoded data removed]",
      "text/plain": [
       "<Figure size 432x288 with 1 Axes>"
      ]
     },
     "metadata": {
      "needs_background": "light"
     },
     "output_type": "display_data"
    }
   ],
   "source": [
    "plt.plot(corr_arr)"
   ]
  },
  {
   "cell_type": "code",
   "execution_count": 12,
   "metadata": {},
   "outputs": [
    {
     "data": {
      "text/plain": [
       "14999974"
      ]
     },
     "execution_count": 12,
     "metadata": {},
     "output_type": "execute_result"
    },
    {
     "data": {
      "image/png": "[encoded data removed]",
      "text/plain": [
       "<Figure size 432x288 with 1 Axes>"
      ]
     },
     "metadata": {
      "needs_background": "light"
     },
     "output_type": "display_data"
    }
   ],
   "source": [
    "for i in range(N-A):\n",
    "    if corr_arr[i] > 4:\n",
    "        corr_sgn[i] = corr_arr[i]\n",
    "    else:\n",
    "        corr_sgn[i] = 0.\n",
    "plt.plot(corr_sgn)\n",
    "M_corr = np.size(corr_sgn,0)\n",
    "M_corr"
   ]
  },
  {
   "cell_type": "markdown",
   "metadata": {},
   "source": [
    "#### Clustering the nonzero indices of corr_sgn"
   ]
  },
  {
   "cell_type": "code",
   "execution_count": 13,
   "metadata": {},
   "outputs": [],
   "source": [
    "M_row = 200\n",
    "corr_cluster = np.zeros((M_row,300), dtype=int)\n",
    "cnt_row, cnt_col = 0, 0\n",
    "for i in range(M_corr):\n",
    "    if corr_sgn[i] > 1:\n",
    "        corr_cluster[cnt_row][cnt_col] = i\n",
    "        pre_nz_idx = i\n",
    "        break\n",
    "for i in range(M_corr):\n",
    "    if corr_sgn[i] > 1:\n",
    "        if i - pre_nz_idx < 300:\n",
    "            corr_cluster[cnt_row][cnt_col] = i\n",
    "            cnt_col += 1\n",
    "        else:\n",
    "            cnt_row += 1\n",
    "            cnt_col = 0\n",
    "            corr_cluster[cnt_row][cnt_col] = i\n",
    "            pre_nz_idx = i      "
   ]
  },
  {
   "cell_type": "code",
   "execution_count": 14,
   "metadata": {},
   "outputs": [],
   "source": [
    "corr_cluster_length = []\n",
    "corr_cluster_index = []\n",
    "cnt = 0\n",
    "for i in range(M_row):\n",
    "    for j in range(300):\n",
    "        if corr_cluster[i][j] > 100:\n",
    "            cnt += 1\n",
    "    if cnt > 120:\n",
    "        corr_cluster_length.append(cnt)\n",
    "        corr_cluster_index.append(corr_cluster[i][0])\n",
    "    cnt = 0"
   ]
  },
  {
   "cell_type": "markdown",
   "metadata": {},
   "source": [
    "#### 0.5usec interval samples 에서 cluster length가 120개 넘는 corr_cluster 의 첫 indices"
   ]
  },
  {
   "cell_type": "code",
   "execution_count": 15,
   "metadata": {},
   "outputs": [
    {
     "name": "stdout",
     "output_type": "stream",
     "text": [
      "[136, 122]\n",
      "[2057830, 2058666]\n"
     ]
    }
   ],
   "source": [
    "print(corr_cluster_length)\n",
    "print(corr_cluster_index)"
   ]
  },
  {
   "cell_type": "markdown",
   "metadata": {},
   "source": [
    "#### 120개 samples 가 넘는 indices에서 demodulation and decoding을 함.\n",
    "\n",
    "i = 946217 에서 preamble이 작게 나오므로, xdeci = xnew[1:40000000:16] 에서 decimation starting point를 바꾸어 봄. -->  xdeci = xnew[4:40000000:16] 로 변경하니 preamble이 좀 더 뚜렷해짐."
   ]
  },
  {
   "cell_type": "code",
   "execution_count": 16,
   "metadata": {},
   "outputs": [
    {
     "data": {
      "text/plain": [
       "[<matplotlib.lines.Line2D at 0x1beb2fa9a90>]"
      ]
     },
     "execution_count": 16,
     "metadata": {},
     "output_type": "execute_result"
    },
    {
     "data": {
      "image/png": "[encoded data removed]",
      "text/plain": [
       "<Figure size 432x288 with 1 Axes>"
      ]
     },
     "metadata": {
      "needs_background": "light"
     },
     "output_type": "display_data"
    }
   ],
   "source": [
    "plt.plot(corr_sgn[49500:50000])"
   ]
  },
  {
   "cell_type": "code",
   "execution_count": 17,
   "metadata": {},
   "outputs": [
    {
     "name": "stdout",
     "output_type": "stream",
     "text": [
      "[2619975 5575842 2057828 1884905 4197090 2057998 3029567 1884851 1077572\n",
      " 1184065 5847490 1077616 4196952 1884993 1184021 5585425 2058664    7167\n",
      " 2058036 2058774 1884891 5575854 7531727 2619944 4197788]\n"
     ]
    }
   ],
   "source": [
    "ord_max = int(25)\n",
    "idx = np.argpartition(corr_sgn, -ord_max)[-ord_max:]\n",
    "indices = idx[np.argsort((-corr_sgn)[idx])]\n",
    "print(indices)"
   ]
  },
  {
   "cell_type": "code",
   "execution_count": 18,
   "metadata": {},
   "outputs": [
    {
     "data": {
      "text/plain": [
       "[<matplotlib.lines.Line2D at 0x1beb3007470>]"
      ]
     },
     "execution_count": 18,
     "metadata": {},
     "output_type": "execute_result"
    },
    {
     "data": {
      "image/png": "[encoded data removed]",
      "text/plain": [
       "<Figure size 432x288 with 1 Axes>"
      ]
     },
     "metadata": {
      "needs_background": "light"
     },
     "output_type": "display_data"
    }
   ],
   "source": [
    "i = 2057820\n",
    "plt.plot(zdeci[i:i+280])"
   ]
  },
  {
   "cell_type": "code",
   "execution_count": 19,
   "metadata": {},
   "outputs": [
    {
     "name": "stdout",
     "output_type": "stream",
     "text": [
      "2057820\n"
     ]
    },
    {
     "data": {
      "text/plain": [
       "array([0.00033133, 0.00024493, 0.00020991, ..., 0.00054992, 0.00061846,\n",
       "       0.00083711])"
      ]
     },
     "execution_count": 19,
     "metadata": {},
     "output_type": "execute_result"
    }
   ],
   "source": [
    "print(i)\n",
    "zdeci"
   ]
  },
  {
   "cell_type": "code",
   "execution_count": 20,
   "metadata": {},
   "outputs": [
    {
     "data": {
      "text/plain": [
       "[<matplotlib.lines.Line2D at 0x1beb306d2b0>]"
      ]
     },
     "execution_count": 20,
     "metadata": {},
     "output_type": "execute_result"
    },
    {
     "data": {
      "image/png": "[encoded data removed]",
      "text/plain": [
       "<Figure size 432x288 with 1 Axes>"
      ]
     },
     "metadata": {
      "needs_background": "light"
     },
     "output_type": "display_data"
    }
   ],
   "source": [
    "zdecision = np.zeros(280)\n",
    "for idx in range(280):\n",
    "    if zdeci[i+idx] > 0.4:\n",
    "        zdecision[idx] = 1.\n",
    "    else:\n",
    "        zdecision[idx] = 0.\n",
    "plt.plot(zdecision) "
   ]
  },
  {
   "cell_type": "code",
   "execution_count": 21,
   "metadata": {},
   "outputs": [
    {
     "name": "stdout",
     "output_type": "stream",
     "text": [
      "[0. 0. 0. 0. 0. 0. 0. 0. 1. 0. 1. 0. 0. 0. 0. 1. 0. 1. 0. 0. 0. 0. 0. 0.\n",
      " 1. 0. 0. 1. 0. 1. 0. 1. 1. 0. 1. 0. 0. 1. 1. 0. 0. 1. 1. 0. 1. 0. 1. 0.\n",
      " 0. 1. 0. 1. 0. 1. 1. 0. 1. 0. 0. 1. 1. 0. 1. 0. 1. 0. 1. 0. 1. 0. 1. 0.\n",
      " 0. 1. 1. 0. 1. 0. 1. 0. 0. 1. 0. 1. 1. 0. 0. 1. 0. 1. 1. 0. 0. 1. 1. 0.\n",
      " 1. 0. 0. 1. 0. 1. 0. 1. 0. 1. 0. 1. 0. 1. 1. 0. 0. 1. 1. 0. 1. 0. 1. 0.\n",
      " 1. 0. 1. 0. 0. 1. 0. 1. 0. 1. 0. 1. 0. 1. 0. 1. 1. 0. 1. 0. 1. 0. 1. 0.\n",
      " 0. 1. 0. 1. 0. 1. 1. 0. 0. 1. 1. 0. 1. 0. 1. 0. 0. 1. 1. 0. 1. 0. 1. 0.\n",
      " 0. 1. 0. 1. 1. 0. 0. 1. 0. 1. 1. 0. 1. 0. 1. 0. 0. 1. 0. 1. 0. 1. 1. 0.\n",
      " 0. 1. 1. 0. 0. 1. 1. 0. 0. 1. 1. 0. 1. 0. 0. 1. 1. 0. 1. 0. 0. 1. 1. 0.\n",
      " 0. 1. 1. 0. 0. 1. 0. 1. 0. 1. 0. 1. 1. 0. 0. 1. 1. 0. 1. 0. 0. 1. 0. 1.\n",
      " 1. 0. 0. 1. 1. 0. 1. 0. 0. 0. 0. 0. 0. 0. 0. 0. 0. 0. 0. 0. 0. 0. 0. 0.\n",
      " 0. 0. 0. 0. 0. 0. 0. 0. 0. 0. 0. 0. 0. 0. 0. 0.]\n"
     ]
    }
   ],
   "source": [
    "print(zdecision)"
   ]
  },
  {
   "cell_type": "markdown",
   "metadata": {},
   "source": [
    "#### REG\tMSN\tAIRCRAFT TYPE\tAIRLINE\tDELIVERED\tSTATUS\tPREV. REG\tREMARK\t\n",
    "HL7772  3483  Airbus A320-200\t Asiana Airlines\tMay 2008\tActive\tF-WWDN\tlsd\n",
    "\n",
    "https://www.planespotters.net/search?q=71bf72"
   ]
  },
  {
   "cell_type": "code",
   "execution_count": null,
   "metadata": {},
   "outputs": [],
   "source": []
  },
  {
   "cell_type": "code",
   "execution_count": null,
   "metadata": {},
   "outputs": [],
   "source": []
  }
 ],
 "metadata": {
  "kernelspec": {
   "display_name": "Python 3",
   "language": "python",
   "name": "python3"
  },
  "language_info": {
   "codemirror_mode": {
    "name": "ipython",
    "version": 3
   },
   "file_extension": ".py",
   "mimetype": "text/x-python",
   "name": "python",
   "nbconvert_exporter": "python",
   "pygments_lexer": "ipython3",
   "version": "3.7.1"
  }
 },
 "nbformat": 4,
 "nbformat_minor": 2
}
